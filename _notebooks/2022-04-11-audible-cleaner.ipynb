{
 "cells": [
  {
   "cell_type": "markdown",
   "id": "763059e3",
   "metadata": {},
   "source": [
    "# \"Audible Data Cleaning\"\n",
    "\n",
    "> \"After scraping the data from [Audible.in](https://www.audible.in/), the notebook focuses on cleaning the data prior to moving into Exploratory Data Analysis.\"\n",
    "\n",
    "- toc:true\n",
    "- comments:true\n",
    "- categories:[audible,data_wrangling,data_cleaning,tabular_data]\n",
    "- images:images/data_clean.png"
   ]
  },
  {
   "cell_type": "markdown",
   "id": "eb8ba201",
   "metadata": {},
   "source": [
    "### Importing Libraries\n",
    "\n",
    "We import [Pandas](https://pandas.pydata.org/docs/getting_started/index.html) and [Numpy](https://numpy.org/doc/stable/user/index.html) as the two libraries would help us clean, edit and prepare our scraped data. We also import [Warnings](https://docs.python.org/3/library/warnings.html). This notebook focused more on data cleaning and data wrangling. For data exploration you can view the notebook here."
   ]
  },
  {
   "cell_type": "code",
   "execution_count": 1,
   "id": "b40dac30",
   "metadata": {},
   "outputs": [],
   "source": [
    "import pandas as pd\n",
    "import numpy as np\n",
    "import warnings\n",
    "warnings.simplefilter('ignore') # ignore any warnings from any code cell"
   ]
  },
  {
   "cell_type": "markdown",
   "id": "9b73a870",
   "metadata": {},
   "source": [
    "### Reading the data"
   ]
  },
  {
   "cell_type": "code",
   "execution_count": 2,
   "id": "2fa15077",
   "metadata": {},
   "outputs": [
    {
     "data": {
      "text/plain": [
       "(87489, 8)"
      ]
     },
     "execution_count": 2,
     "metadata": {},
     "output_type": "execute_result"
    }
   ],
   "source": [
    "data = pd.read_csv('./audible_uncleaned.csv')\n",
    "data.shape # Gives use a tuple of (rows, columns)"
   ]
  },
  {
   "cell_type": "code",
   "execution_count": 3,
   "id": "447cc36e",
   "metadata": {},
   "outputs": [
    {
     "data": {
      "text/html": [
       "<div>\n",
       "<style scoped>\n",
       "    .dataframe tbody tr th:only-of-type {\n",
       "        vertical-align: middle;\n",
       "    }\n",
       "\n",
       "    .dataframe tbody tr th {\n",
       "        vertical-align: top;\n",
       "    }\n",
       "\n",
       "    .dataframe thead th {\n",
       "        text-align: right;\n",
       "    }\n",
       "</style>\n",
       "<table border=\"1\" class=\"dataframe\">\n",
       "  <thead>\n",
       "    <tr style=\"text-align: right;\">\n",
       "      <th></th>\n",
       "      <th>name</th>\n",
       "      <th>author</th>\n",
       "      <th>narrator</th>\n",
       "      <th>time</th>\n",
       "      <th>releasedate</th>\n",
       "      <th>language</th>\n",
       "      <th>stars</th>\n",
       "      <th>price</th>\n",
       "    </tr>\n",
       "  </thead>\n",
       "  <tbody>\n",
       "    <tr>\n",
       "      <th>0</th>\n",
       "      <td>Geronimo Stilton #11 &amp; #12</td>\n",
       "      <td>Writtenby:GeronimoStilton</td>\n",
       "      <td>Narratedby:BillLobely</td>\n",
       "      <td>2 hrs and 20 mins</td>\n",
       "      <td>04-08-08</td>\n",
       "      <td>English</td>\n",
       "      <td>5 out of 5 stars34 ratings</td>\n",
       "      <td>468.00</td>\n",
       "    </tr>\n",
       "    <tr>\n",
       "      <th>1</th>\n",
       "      <td>The Burning Maze</td>\n",
       "      <td>Writtenby:RickRiordan</td>\n",
       "      <td>Narratedby:RobbieDaymond</td>\n",
       "      <td>13 hrs and 8 mins</td>\n",
       "      <td>01-05-18</td>\n",
       "      <td>English</td>\n",
       "      <td>4.5 out of 5 stars41 ratings</td>\n",
       "      <td>820.00</td>\n",
       "    </tr>\n",
       "    <tr>\n",
       "      <th>2</th>\n",
       "      <td>The Deep End</td>\n",
       "      <td>Writtenby:JeffKinney</td>\n",
       "      <td>Narratedby:DanRussell</td>\n",
       "      <td>2 hrs and 3 mins</td>\n",
       "      <td>06-11-20</td>\n",
       "      <td>English</td>\n",
       "      <td>4.5 out of 5 stars38 ratings</td>\n",
       "      <td>410.00</td>\n",
       "    </tr>\n",
       "  </tbody>\n",
       "</table>\n",
       "</div>"
      ],
      "text/plain": [
       "                         name                     author  \\\n",
       "0  Geronimo Stilton #11 & #12  Writtenby:GeronimoStilton   \n",
       "1            The Burning Maze      Writtenby:RickRiordan   \n",
       "2                The Deep End       Writtenby:JeffKinney   \n",
       "\n",
       "                   narrator               time releasedate language  \\\n",
       "0     Narratedby:BillLobely  2 hrs and 20 mins    04-08-08  English   \n",
       "1  Narratedby:RobbieDaymond  13 hrs and 8 mins    01-05-18  English   \n",
       "2     Narratedby:DanRussell   2 hrs and 3 mins    06-11-20  English   \n",
       "\n",
       "                          stars   price  \n",
       "0    5 out of 5 stars34 ratings  468.00  \n",
       "1  4.5 out of 5 stars41 ratings  820.00  \n",
       "2  4.5 out of 5 stars38 ratings  410.00  "
      ]
     },
     "execution_count": 3,
     "metadata": {},
     "output_type": "execute_result"
    }
   ],
   "source": [
    "data.head(3)"
   ]
  },
  {
   "cell_type": "markdown",
   "id": "e0aa4db3",
   "metadata": {},
   "source": [
    "# Cleaning the data\n",
    "\n",
    "While we have our scraped data, we don't exactly have a cleaner much readable view of our data or the datatypes for the columns we would prefer before diving into analysis and data visulization. Let's start by cleaning our data. "
   ]
  },
  {
   "cell_type": "markdown",
   "id": "5328b500",
   "metadata": {},
   "source": [
    "### Checking for duplicates\n",
    "\n",
    "We use `.sum()` method as `data.duplicated()` returns a Pandas Series of boolean values. Summing them up shows how many duplicated values are there. "
   ]
  },
  {
   "cell_type": "code",
   "execution_count": 4,
   "id": "94851729",
   "metadata": {},
   "outputs": [
    {
     "data": {
      "text/plain": [
       "0"
      ]
     },
     "execution_count": 4,
     "metadata": {},
     "output_type": "execute_result"
    }
   ],
   "source": [
    "data.duplicated().sum()"
   ]
  },
  {
   "cell_type": "markdown",
   "id": "27b59534",
   "metadata": {},
   "source": [
    "### Cleaning the `author` and `narrator` columns\n",
    "\n",
    "Removing the `Writtenby:` and `Narratedby:` as those values are redundant\n",
    "<br>\n",
    "\n",
    " - Selecting the Pandas Series by using `data.author` \n",
    " - Then we use the `.str` method get all the string values \n",
    " - And finally, we run the `replace` method with the `value_to_be_replaced` and the `value_to_be_replaced_with`"
   ]
  },
  {
   "cell_type": "code",
   "execution_count": 5,
   "id": "03b4d211",
   "metadata": {
    "scrolled": false
   },
   "outputs": [
    {
     "data": {
      "text/html": [
       "<div>\n",
       "<style scoped>\n",
       "    .dataframe tbody tr th:only-of-type {\n",
       "        vertical-align: middle;\n",
       "    }\n",
       "\n",
       "    .dataframe tbody tr th {\n",
       "        vertical-align: top;\n",
       "    }\n",
       "\n",
       "    .dataframe thead th {\n",
       "        text-align: right;\n",
       "    }\n",
       "</style>\n",
       "<table border=\"1\" class=\"dataframe\">\n",
       "  <thead>\n",
       "    <tr style=\"text-align: right;\">\n",
       "      <th></th>\n",
       "      <th>name</th>\n",
       "      <th>author</th>\n",
       "      <th>narrator</th>\n",
       "      <th>time</th>\n",
       "      <th>releasedate</th>\n",
       "      <th>language</th>\n",
       "      <th>stars</th>\n",
       "      <th>price</th>\n",
       "    </tr>\n",
       "  </thead>\n",
       "  <tbody>\n",
       "    <tr>\n",
       "      <th>10867</th>\n",
       "      <td>The Trust Manifesto</td>\n",
       "      <td>DamianBradfield</td>\n",
       "      <td>DamianBradfield,RichardHughes,KristinAtherton</td>\n",
       "      <td>6 hrs and 54 mins</td>\n",
       "      <td>10-10-19</td>\n",
       "      <td>English</td>\n",
       "      <td>Not rated yet</td>\n",
       "      <td>888.00</td>\n",
       "    </tr>\n",
       "    <tr>\n",
       "      <th>34136</th>\n",
       "      <td>How to Be a Conscious Eater</td>\n",
       "      <td>SophieEgan</td>\n",
       "      <td>SophieEgan</td>\n",
       "      <td>7 hrs and 15 mins</td>\n",
       "      <td>27-04-21</td>\n",
       "      <td>English</td>\n",
       "      <td>Not rated yet</td>\n",
       "      <td>562.00</td>\n",
       "    </tr>\n",
       "    <tr>\n",
       "      <th>6549</th>\n",
       "      <td>Els silencis de la boca de la mina [The Silenc...</td>\n",
       "      <td>AndreuSotorra</td>\n",
       "      <td>JoanMora</td>\n",
       "      <td>4 hrs and 3 mins</td>\n",
       "      <td>02-01-19</td>\n",
       "      <td>catalan</td>\n",
       "      <td>Not rated yet</td>\n",
       "      <td>537.00</td>\n",
       "    </tr>\n",
       "  </tbody>\n",
       "</table>\n",
       "</div>"
      ],
      "text/plain": [
       "                                                    name           author  \\\n",
       "10867                                The Trust Manifesto  DamianBradfield   \n",
       "34136                        How to Be a Conscious Eater       SophieEgan   \n",
       "6549   Els silencis de la boca de la mina [The Silenc...    AndreuSotorra   \n",
       "\n",
       "                                            narrator               time  \\\n",
       "10867  DamianBradfield,RichardHughes,KristinAtherton  6 hrs and 54 mins   \n",
       "34136                                     SophieEgan  7 hrs and 15 mins   \n",
       "6549                                        JoanMora   4 hrs and 3 mins   \n",
       "\n",
       "      releasedate language          stars   price  \n",
       "10867    10-10-19  English  Not rated yet  888.00  \n",
       "34136    27-04-21  English  Not rated yet  562.00  \n",
       "6549     02-01-19  catalan  Not rated yet  537.00  "
      ]
     },
     "execution_count": 5,
     "metadata": {},
     "output_type": "execute_result"
    }
   ],
   "source": [
    "data.author = data.author.str.replace('Writtenby:', '')\n",
    "data.narrator = data.narrator.str.replace('Narratedby:', '')\n",
    "data.sample(3)"
   ]
  },
  {
   "cell_type": "markdown",
   "id": "72eced69",
   "metadata": {},
   "source": [
    "### Cleaning the `stars` columns\n",
    "\n",
    "The `stars` column has three distinct format of values: \n",
    "<br>\n",
    "1. `5 out of 5 stars34 ratings`\n",
    "2. `4.5 out of 5 stars38 ratings`\n",
    "3. `Not rated yet`\n",
    "<br><br>\n",
    "- We handle the **3rd** one efficiently using the Pandas Series and the replace method to replace with NaN values using the numpy library. *Note: This doesn't use the `str` method and hence we use the `inplace = True`* \n",
    "- As for the **1st** and the **2nd** one, we use [Regex](https://docs.python.org/3/library/re.html) to split the string into two columns of `stars` and `ratings`.\n",
    "\n",
    "> **Note**: I used the [Regex101](https://regex101.com/) as guide to use regular expression on the string."
   ]
  },
  {
   "cell_type": "code",
   "execution_count": 6,
   "id": "fe1fb184",
   "metadata": {},
   "outputs": [],
   "source": [
    "data.stars.replace('Not rated yet', np.nan, inplace=True)\n",
    "data[['unknown','stars', 'ratings']] = data.stars.str.split(r'(\\d*.?\\d\\s[a-z]+\\s[a-z]+\\s\\d+\\s[a-z]+)', 1, expand=True, regex=True)"
   ]
  },
  {
   "cell_type": "code",
   "execution_count": 7,
   "id": "4c49ee38",
   "metadata": {
    "scrolled": true
   },
   "outputs": [],
   "source": [
    "data.drop('unknown', axis=1, inplace=True) # Dropping the unknown column as it only consists of spaces and nan values"
   ]
  },
  {
   "cell_type": "markdown",
   "id": "269613db",
   "metadata": {},
   "source": [
    "# Changing Datatypes"
   ]
  },
  {
   "cell_type": "markdown",
   "id": "2531fdca",
   "metadata": {},
   "source": [
    "### Changing the `price` column to a float value\n",
    "\n",
    "The `price` column has three distinct values:\n",
    "\n",
    "1. `Free`\n",
    "2. 3-digit value. Eg:`839.00`\n",
    "3. 4-digit value. Eg:`1,230.00`\n",
    "\n",
    "- We replace **1st** one with `0`\n",
    "- And for the **3rd** one we remove the `,` as that blocks us to change the datatype to `float`"
   ]
  },
  {
   "cell_type": "code",
   "execution_count": 8,
   "id": "f0818ecf",
   "metadata": {
    "scrolled": true
   },
   "outputs": [],
   "source": [
    "data.price = data.price.str.replace(',', '')\n",
    "data.price.replace('Free', 0, inplace=True)\n",
    "data.price = data.price.astype('float64')"
   ]
  },
  {
   "cell_type": "markdown",
   "id": "5f575ed0",
   "metadata": {},
   "source": [
    "### Changing the `ratings` column to a float value\n",
    "\n",
    "The `ratings` column has one value:\n",
    "\n",
    "1. `23 ratings`\n",
    "\n",
    "- We split the data at the `-space-` and drop the column which doesn't have the value and then change the datatype to `float`. \n",
    "\n",
    "> **Note**: Ratings are generally whole numbers but since the column has null values it couldn't be changed to `int` and hence the choice for `float`"
   ]
  },
  {
   "cell_type": "code",
   "execution_count": 9,
   "id": "a8bb7fa8",
   "metadata": {},
   "outputs": [],
   "source": [
    "data[['ratings', 'unknown']] = data.ratings.str.split(' ', 1, expand=True)\n",
    "data.drop('unknown', axis=1, inplace=True)"
   ]
  },
  {
   "cell_type": "code",
   "execution_count": 10,
   "id": "f6125cc3",
   "metadata": {},
   "outputs": [],
   "source": [
    "data.ratings = data.ratings.str.replace(',', '').astype('float64')"
   ]
  },
  {
   "cell_type": "markdown",
   "id": "a652a844",
   "metadata": {},
   "source": [
    "### Changing the `stars` column to a float value\n",
    "\n",
    "The `stars` column has one value:\n",
    "\n",
    "1. `5 out of 5 stars`\n",
    "\n",
    "- We split the data at the `out` and drop the extra column as all the values are rated out of 5 stars and then change the datatype to `float`. \n"
   ]
  },
  {
   "cell_type": "code",
   "execution_count": 11,
   "id": "eac8e057",
   "metadata": {},
   "outputs": [],
   "source": [
    "data[['stars', 'unknown']] = data.stars.str.split('out', 1, expand=True)\n",
    "data.drop('unknown', axis=1, inplace=True)"
   ]
  },
  {
   "cell_type": "code",
   "execution_count": 12,
   "id": "44523809",
   "metadata": {},
   "outputs": [],
   "source": [
    "data.stars = data.stars.astype('float64')"
   ]
  },
  {
   "cell_type": "markdown",
   "id": "8a600094",
   "metadata": {},
   "source": [
    "### Changing the `releasedate` to datetime object"
   ]
  },
  {
   "cell_type": "code",
   "execution_count": 13,
   "id": "2f3b1e82",
   "metadata": {},
   "outputs": [],
   "source": [
    "data.releasedate = pd.to_datetime(data.releasedate)"
   ]
  },
  {
   "cell_type": "markdown",
   "id": "88ddf4f9",
   "metadata": {},
   "source": [
    "### Changing the `time` to datetime integer value of only minutes\n",
    "\n",
    "The `time` column has 4 distinct values:\n",
    "\n",
    "1. `1 hr`\n",
    "2. `1 min`\n",
    "3. `3 hrs and 40 mins`\n",
    "4. `Less than 1 minute`\n",
    "\n",
    "- For the **4th** option we approx it to `1 min`\n",
    "- We then replace the `hrs` to `hr` and `mins` to `min`, as that would help us genaralize it "
   ]
  },
  {
   "cell_type": "code",
   "execution_count": 14,
   "id": "9a3bdf7d",
   "metadata": {},
   "outputs": [
    {
     "data": {
      "text/html": [
       "<div>\n",
       "<style scoped>\n",
       "    .dataframe tbody tr th:only-of-type {\n",
       "        vertical-align: middle;\n",
       "    }\n",
       "\n",
       "    .dataframe tbody tr th {\n",
       "        vertical-align: top;\n",
       "    }\n",
       "\n",
       "    .dataframe thead th {\n",
       "        text-align: right;\n",
       "    }\n",
       "</style>\n",
       "<table border=\"1\" class=\"dataframe\">\n",
       "  <thead>\n",
       "    <tr style=\"text-align: right;\">\n",
       "      <th></th>\n",
       "      <th>name</th>\n",
       "      <th>author</th>\n",
       "      <th>narrator</th>\n",
       "      <th>time</th>\n",
       "      <th>releasedate</th>\n",
       "      <th>language</th>\n",
       "      <th>stars</th>\n",
       "      <th>price</th>\n",
       "      <th>ratings</th>\n",
       "    </tr>\n",
       "  </thead>\n",
       "  <tbody>\n",
       "    <tr>\n",
       "      <th>0</th>\n",
       "      <td>Geronimo Stilton #11 &amp; #12</td>\n",
       "      <td>GeronimoStilton</td>\n",
       "      <td>BillLobely</td>\n",
       "      <td>2 hr and 20 min</td>\n",
       "      <td>2008-04-08</td>\n",
       "      <td>English</td>\n",
       "      <td>5.0</td>\n",
       "      <td>468.0</td>\n",
       "      <td>34.0</td>\n",
       "    </tr>\n",
       "    <tr>\n",
       "      <th>1</th>\n",
       "      <td>The Burning Maze</td>\n",
       "      <td>RickRiordan</td>\n",
       "      <td>RobbieDaymond</td>\n",
       "      <td>13 hr and 8 min</td>\n",
       "      <td>2018-01-05</td>\n",
       "      <td>English</td>\n",
       "      <td>4.5</td>\n",
       "      <td>820.0</td>\n",
       "      <td>41.0</td>\n",
       "    </tr>\n",
       "    <tr>\n",
       "      <th>2</th>\n",
       "      <td>The Deep End</td>\n",
       "      <td>JeffKinney</td>\n",
       "      <td>DanRussell</td>\n",
       "      <td>2 hr and 3 min</td>\n",
       "      <td>2020-06-11</td>\n",
       "      <td>English</td>\n",
       "      <td>4.5</td>\n",
       "      <td>410.0</td>\n",
       "      <td>38.0</td>\n",
       "    </tr>\n",
       "  </tbody>\n",
       "</table>\n",
       "</div>"
      ],
      "text/plain": [
       "                         name           author       narrator  \\\n",
       "0  Geronimo Stilton #11 & #12  GeronimoStilton     BillLobely   \n",
       "1            The Burning Maze      RickRiordan  RobbieDaymond   \n",
       "2                The Deep End       JeffKinney     DanRussell   \n",
       "\n",
       "              time releasedate language  stars  price  ratings  \n",
       "0  2 hr and 20 min  2008-04-08  English    5.0  468.0     34.0  \n",
       "1  13 hr and 8 min  2018-01-05  English    4.5  820.0     41.0  \n",
       "2   2 hr and 3 min  2020-06-11  English    4.5  410.0     38.0  "
      ]
     },
     "execution_count": 14,
     "metadata": {},
     "output_type": "execute_result"
    }
   ],
   "source": [
    "data.time = data.time.str.replace('Less than 1 minute', '1 min')\n",
    "data.time = data.time.str.replace('mins', 'min')\n",
    "data.time = data.time.str.replace('hrs', 'hr')\n",
    "data.head(3)"
   ]
  },
  {
   "cell_type": "markdown",
   "id": "051c56d8",
   "metadata": {},
   "source": [
    "Here, we split the `time` twice, once to separate the `hour` and again to separate the `minutes`. This again uses Regex as that makes working with strings extremly easy and handy. \n",
    "\n",
    "> **Note**: It's not necessary to split it twice and can be done once by reusing `mins` however this makes it easier to read and understand."
   ]
  },
  {
   "cell_type": "code",
   "execution_count": 15,
   "id": "29df610d",
   "metadata": {},
   "outputs": [],
   "source": [
    "data[['unknown', 'hour', 'mins']] = data['time'].str.split(r'(\\d+ hr)', expand=True, regex=True)\n",
    "data.drop(['unknown', 'mins'], axis =1, inplace=True)"
   ]
  },
  {
   "cell_type": "code",
   "execution_count": 16,
   "id": "091c8403",
   "metadata": {},
   "outputs": [],
   "source": [
    "data[['hr', 'minutes', 'unknown']] = data['time'].str.split(r'(\\d+ min)', expand=True, regex=True)\n",
    "data.drop(['unknown', 'hr'], axis =1, inplace=True)"
   ]
  },
  {
   "cell_type": "markdown",
   "id": "098a2bd5",
   "metadata": {},
   "source": [
    "> **Note**:  We see that we have `None` values and not `np.nan` values after splitting the string. We use `.applymap()` to map the `lambda` function and them sum them up to see the count of `None` values.\n",
    "\n",
    "An easier way to find what values you have in a Pandas Series is to run `df.name_of_column.unique()` to see all unique values. <br>\n",
    "To count the number of unique values in a Pandas Series run `df.name_of_column.nunique()`."
   ]
  },
  {
   "cell_type": "code",
   "execution_count": 17,
   "id": "40365ca2",
   "metadata": {},
   "outputs": [
    {
     "data": {
      "text/plain": [
       "name               0\n",
       "author             0\n",
       "narrator           0\n",
       "time               0\n",
       "releasedate        0\n",
       "language           0\n",
       "stars              0\n",
       "price              0\n",
       "ratings            0\n",
       "hour           13406\n",
       "minutes         1343\n",
       "dtype: int64"
      ]
     },
     "execution_count": 17,
     "metadata": {},
     "output_type": "execute_result"
    }
   ],
   "source": [
    "data.applymap(lambda x: x is None).sum()"
   ]
  },
  {
   "cell_type": "markdown",
   "id": "b755af70",
   "metadata": {},
   "source": [
    "We fill `None` values the same as filling `Nan` values i.e. with `fillna()`"
   ]
  },
  {
   "cell_type": "code",
   "execution_count": 18,
   "id": "e2f9947c",
   "metadata": {},
   "outputs": [],
   "source": [
    "data.hour.fillna(value='0 hr', inplace=True)\n",
    "data.minutes.fillna(value='0 min', inplace=True)"
   ]
  },
  {
   "cell_type": "code",
   "execution_count": 19,
   "id": "3fc1a6f3",
   "metadata": {
    "scrolled": true
   },
   "outputs": [
    {
     "data": {
      "text/plain": [
       "name           0\n",
       "author         0\n",
       "narrator       0\n",
       "time           0\n",
       "releasedate    0\n",
       "language       0\n",
       "stars          0\n",
       "price          0\n",
       "ratings        0\n",
       "hour           0\n",
       "minutes        0\n",
       "dtype: int64"
      ]
     },
     "execution_count": 19,
     "metadata": {},
     "output_type": "execute_result"
    }
   ],
   "source": [
    "data.applymap(lambda x: x is None).sum()"
   ]
  },
  {
   "cell_type": "code",
   "execution_count": 20,
   "id": "6c1b0b24",
   "metadata": {},
   "outputs": [
    {
     "data": {
      "text/html": [
       "<div>\n",
       "<style scoped>\n",
       "    .dataframe tbody tr th:only-of-type {\n",
       "        vertical-align: middle;\n",
       "    }\n",
       "\n",
       "    .dataframe tbody tr th {\n",
       "        vertical-align: top;\n",
       "    }\n",
       "\n",
       "    .dataframe thead th {\n",
       "        text-align: right;\n",
       "    }\n",
       "</style>\n",
       "<table border=\"1\" class=\"dataframe\">\n",
       "  <thead>\n",
       "    <tr style=\"text-align: right;\">\n",
       "      <th></th>\n",
       "      <th>name</th>\n",
       "      <th>author</th>\n",
       "      <th>narrator</th>\n",
       "      <th>time</th>\n",
       "      <th>releasedate</th>\n",
       "      <th>language</th>\n",
       "      <th>stars</th>\n",
       "      <th>price</th>\n",
       "      <th>ratings</th>\n",
       "      <th>hour</th>\n",
       "      <th>minutes</th>\n",
       "    </tr>\n",
       "  </thead>\n",
       "  <tbody>\n",
       "    <tr>\n",
       "      <th>0</th>\n",
       "      <td>Geronimo Stilton #11 &amp; #12</td>\n",
       "      <td>GeronimoStilton</td>\n",
       "      <td>BillLobely</td>\n",
       "      <td>2 hr and 20 min</td>\n",
       "      <td>2008-04-08</td>\n",
       "      <td>English</td>\n",
       "      <td>5.0</td>\n",
       "      <td>468.0</td>\n",
       "      <td>34.0</td>\n",
       "      <td>2 hr</td>\n",
       "      <td>20 min</td>\n",
       "    </tr>\n",
       "    <tr>\n",
       "      <th>1</th>\n",
       "      <td>The Burning Maze</td>\n",
       "      <td>RickRiordan</td>\n",
       "      <td>RobbieDaymond</td>\n",
       "      <td>13 hr and 8 min</td>\n",
       "      <td>2018-01-05</td>\n",
       "      <td>English</td>\n",
       "      <td>4.5</td>\n",
       "      <td>820.0</td>\n",
       "      <td>41.0</td>\n",
       "      <td>13 hr</td>\n",
       "      <td>8 min</td>\n",
       "    </tr>\n",
       "    <tr>\n",
       "      <th>2</th>\n",
       "      <td>The Deep End</td>\n",
       "      <td>JeffKinney</td>\n",
       "      <td>DanRussell</td>\n",
       "      <td>2 hr and 3 min</td>\n",
       "      <td>2020-06-11</td>\n",
       "      <td>English</td>\n",
       "      <td>4.5</td>\n",
       "      <td>410.0</td>\n",
       "      <td>38.0</td>\n",
       "      <td>2 hr</td>\n",
       "      <td>3 min</td>\n",
       "    </tr>\n",
       "  </tbody>\n",
       "</table>\n",
       "</div>"
      ],
      "text/plain": [
       "                         name           author       narrator  \\\n",
       "0  Geronimo Stilton #11 & #12  GeronimoStilton     BillLobely   \n",
       "1            The Burning Maze      RickRiordan  RobbieDaymond   \n",
       "2                The Deep End       JeffKinney     DanRussell   \n",
       "\n",
       "              time releasedate language  stars  price  ratings   hour minutes  \n",
       "0  2 hr and 20 min  2008-04-08  English    5.0  468.0     34.0   2 hr  20 min  \n",
       "1  13 hr and 8 min  2018-01-05  English    4.5  820.0     41.0  13 hr   8 min  \n",
       "2   2 hr and 3 min  2020-06-11  English    4.5  410.0     38.0   2 hr   3 min  "
      ]
     },
     "execution_count": 20,
     "metadata": {},
     "output_type": "execute_result"
    }
   ],
   "source": [
    "data.head(3)"
   ]
  },
  {
   "cell_type": "markdown",
   "id": "d5427053",
   "metadata": {},
   "source": [
    "Now that we don't have any null values, we remove the string associated with the numbers - `hr` from the hour columns and `min` from the minutes column.\n",
    "<br>\n",
    "To convert the entire `time` from *hours & minutes* --> *minutes*, we need to multiply the hours by 60 and then add the minutes. \n",
    "\n",
    "- After removing the string object we turn the value to an `integer` and use the `.mulitply()` method to multiply the Pandas Series. \n",
    "\n",
    "- Finally, we add the `minutes` and `hour` column replacing the `time` column while dropping the `hour` and `minutes` column."
   ]
  },
  {
   "cell_type": "code",
   "execution_count": 21,
   "id": "9f474f17",
   "metadata": {},
   "outputs": [],
   "source": [
    "data.hour = data.hour.str.replace('hr', '').astype(int).multiply(60)\n",
    "data.minutes = data.minutes.str.replace('min', '').astype(int)\n",
    "data['time'] = data.minutes + data.hour"
   ]
  },
  {
   "cell_type": "code",
   "execution_count": 22,
   "id": "86ab82d1",
   "metadata": {},
   "outputs": [],
   "source": [
    "data.drop(['hour', 'minutes'], axis=1, inplace=True)"
   ]
  },
  {
   "cell_type": "code",
   "execution_count": 23,
   "id": "993b891f",
   "metadata": {},
   "outputs": [
    {
     "data": {
      "text/html": [
       "<div>\n",
       "<style scoped>\n",
       "    .dataframe tbody tr th:only-of-type {\n",
       "        vertical-align: middle;\n",
       "    }\n",
       "\n",
       "    .dataframe tbody tr th {\n",
       "        vertical-align: top;\n",
       "    }\n",
       "\n",
       "    .dataframe thead th {\n",
       "        text-align: right;\n",
       "    }\n",
       "</style>\n",
       "<table border=\"1\" class=\"dataframe\">\n",
       "  <thead>\n",
       "    <tr style=\"text-align: right;\">\n",
       "      <th></th>\n",
       "      <th>name</th>\n",
       "      <th>author</th>\n",
       "      <th>narrator</th>\n",
       "      <th>time</th>\n",
       "      <th>releasedate</th>\n",
       "      <th>language</th>\n",
       "      <th>stars</th>\n",
       "      <th>price</th>\n",
       "      <th>ratings</th>\n",
       "    </tr>\n",
       "  </thead>\n",
       "  <tbody>\n",
       "    <tr>\n",
       "      <th>0</th>\n",
       "      <td>Geronimo Stilton #11 &amp; #12</td>\n",
       "      <td>GeronimoStilton</td>\n",
       "      <td>BillLobely</td>\n",
       "      <td>140</td>\n",
       "      <td>2008-04-08</td>\n",
       "      <td>English</td>\n",
       "      <td>5.0</td>\n",
       "      <td>468.0</td>\n",
       "      <td>34.0</td>\n",
       "    </tr>\n",
       "    <tr>\n",
       "      <th>1</th>\n",
       "      <td>The Burning Maze</td>\n",
       "      <td>RickRiordan</td>\n",
       "      <td>RobbieDaymond</td>\n",
       "      <td>788</td>\n",
       "      <td>2018-01-05</td>\n",
       "      <td>English</td>\n",
       "      <td>4.5</td>\n",
       "      <td>820.0</td>\n",
       "      <td>41.0</td>\n",
       "    </tr>\n",
       "    <tr>\n",
       "      <th>2</th>\n",
       "      <td>The Deep End</td>\n",
       "      <td>JeffKinney</td>\n",
       "      <td>DanRussell</td>\n",
       "      <td>123</td>\n",
       "      <td>2020-06-11</td>\n",
       "      <td>English</td>\n",
       "      <td>4.5</td>\n",
       "      <td>410.0</td>\n",
       "      <td>38.0</td>\n",
       "    </tr>\n",
       "  </tbody>\n",
       "</table>\n",
       "</div>"
      ],
      "text/plain": [
       "                         name           author       narrator  time  \\\n",
       "0  Geronimo Stilton #11 & #12  GeronimoStilton     BillLobely   140   \n",
       "1            The Burning Maze      RickRiordan  RobbieDaymond   788   \n",
       "2                The Deep End       JeffKinney     DanRussell   123   \n",
       "\n",
       "  releasedate language  stars  price  ratings  \n",
       "0  2008-04-08  English    5.0  468.0     34.0  \n",
       "1  2018-01-05  English    4.5  820.0     41.0  \n",
       "2  2020-06-11  English    4.5  410.0     38.0  "
      ]
     },
     "execution_count": 23,
     "metadata": {},
     "output_type": "execute_result"
    }
   ],
   "source": [
    "data.head(3)"
   ]
  },
  {
   "cell_type": "markdown",
   "id": "9fa1e1cd",
   "metadata": {},
   "source": [
    "# Replacing the NaN values\n",
    "\n",
    "We are almost done with cleaning our data however we still have `Nan` values. While we can have `NaN` values as it could portray the realistic way on how the data is represented but we would evnetually need to replace it with some value when analysing or visulizating the data. \n",
    "\n",
    "In majority number of cases, I've seen `NaN` values being replaced by `mean` or `median` which in this case wouldn't be of much help, as the audiobooks doesn't actually have a rating or star. It's much preferable to replace the value with zero. "
   ]
  },
  {
   "cell_type": "code",
   "execution_count": 24,
   "id": "1328ea96",
   "metadata": {},
   "outputs": [
    {
     "data": {
      "text/plain": [
       "name               0\n",
       "author             0\n",
       "narrator           0\n",
       "time               0\n",
       "releasedate        0\n",
       "language           0\n",
       "stars          72417\n",
       "price              0\n",
       "ratings        72417\n",
       "dtype: int64"
      ]
     },
     "execution_count": 24,
     "metadata": {},
     "output_type": "execute_result"
    }
   ],
   "source": [
    "data.isna().sum()"
   ]
  },
  {
   "cell_type": "markdown",
   "id": "aca60506",
   "metadata": {},
   "source": [
    "We see an equal number of missing values, just as we expected on the `stars` and `ratings` column. To replace then with `0` we can simple write:"
   ]
  },
  {
   "cell_type": "code",
   "execution_count": 25,
   "id": "65c220d9",
   "metadata": {},
   "outputs": [],
   "source": [
    "data.fillna(0, inplace=True)"
   ]
  },
  {
   "cell_type": "markdown",
   "id": "e22177ca",
   "metadata": {},
   "source": [
    "We can see that we have no missing values now! Great! To check, we can simply run a `sample()` and it would show us.\n",
    "<br>\n",
    "**Note**: `sample()` select a row randomly, you can pass in a value to get that many number of randomly selected rows."
   ]
  },
  {
   "cell_type": "code",
   "execution_count": 26,
   "id": "3c498166",
   "metadata": {
    "scrolled": true
   },
   "outputs": [
    {
     "data": {
      "text/plain": [
       "name           0\n",
       "author         0\n",
       "narrator       0\n",
       "time           0\n",
       "releasedate    0\n",
       "language       0\n",
       "stars          0\n",
       "price          0\n",
       "ratings        0\n",
       "dtype: int64"
      ]
     },
     "execution_count": 26,
     "metadata": {},
     "output_type": "execute_result"
    }
   ],
   "source": [
    "data.isna().sum()"
   ]
  },
  {
   "cell_type": "code",
   "execution_count": 27,
   "id": "84ca23d6",
   "metadata": {},
   "outputs": [
    {
     "data": {
      "text/html": [
       "<div>\n",
       "<style scoped>\n",
       "    .dataframe tbody tr th:only-of-type {\n",
       "        vertical-align: middle;\n",
       "    }\n",
       "\n",
       "    .dataframe tbody tr th {\n",
       "        vertical-align: top;\n",
       "    }\n",
       "\n",
       "    .dataframe thead th {\n",
       "        text-align: right;\n",
       "    }\n",
       "</style>\n",
       "<table border=\"1\" class=\"dataframe\">\n",
       "  <thead>\n",
       "    <tr style=\"text-align: right;\">\n",
       "      <th></th>\n",
       "      <th>name</th>\n",
       "      <th>author</th>\n",
       "      <th>narrator</th>\n",
       "      <th>time</th>\n",
       "      <th>releasedate</th>\n",
       "      <th>language</th>\n",
       "      <th>stars</th>\n",
       "      <th>price</th>\n",
       "      <th>ratings</th>\n",
       "    </tr>\n",
       "  </thead>\n",
       "  <tbody>\n",
       "    <tr>\n",
       "      <th>40951</th>\n",
       "      <td>Шейх Мансур</td>\n",
       "      <td>АнатолийВиноградов</td>\n",
       "      <td>ВсеволодКузнецов</td>\n",
       "      <td>61</td>\n",
       "      <td>2020-12-21</td>\n",
       "      <td>russian</td>\n",
       "      <td>0.0</td>\n",
       "      <td>99.0</td>\n",
       "      <td>0.0</td>\n",
       "    </tr>\n",
       "    <tr>\n",
       "      <th>20151</th>\n",
       "      <td>Life</td>\n",
       "      <td>KeithRichards</td>\n",
       "      <td>StephanRemmler</td>\n",
       "      <td>400</td>\n",
       "      <td>2010-04-11</td>\n",
       "      <td>german</td>\n",
       "      <td>0.0</td>\n",
       "      <td>367.0</td>\n",
       "      <td>0.0</td>\n",
       "    </tr>\n",
       "    <tr>\n",
       "      <th>51989</th>\n",
       "      <td>The Ship of Silence</td>\n",
       "      <td>AlbertR.Wetjen</td>\n",
       "      <td>JeffHarding</td>\n",
       "      <td>52</td>\n",
       "      <td>2022-02-18</td>\n",
       "      <td>English</td>\n",
       "      <td>0.0</td>\n",
       "      <td>53.0</td>\n",
       "      <td>0.0</td>\n",
       "    </tr>\n",
       "  </tbody>\n",
       "</table>\n",
       "</div>"
      ],
      "text/plain": [
       "                      name              author          narrator  time  \\\n",
       "40951          Шейх Мансур  АнатолийВиноградов  ВсеволодКузнецов    61   \n",
       "20151                 Life       KeithRichards    StephanRemmler   400   \n",
       "51989  The Ship of Silence      AlbertR.Wetjen       JeffHarding    52   \n",
       "\n",
       "      releasedate language  stars  price  ratings  \n",
       "40951  2020-12-21  russian    0.0   99.0      0.0  \n",
       "20151  2010-04-11   german    0.0  367.0      0.0  \n",
       "51989  2022-02-18  English    0.0   53.0      0.0  "
      ]
     },
     "execution_count": 27,
     "metadata": {},
     "output_type": "execute_result"
    }
   ],
   "source": [
    "data.sample(3)"
   ]
  },
  {
   "cell_type": "markdown",
   "id": "22a498be",
   "metadata": {},
   "source": [
    "Finally, we can view the entire infomation of the cleaned DataFrame using `.info()`"
   ]
  },
  {
   "cell_type": "code",
   "execution_count": 28,
   "id": "e3091962",
   "metadata": {},
   "outputs": [
    {
     "name": "stdout",
     "output_type": "stream",
     "text": [
      "<class 'pandas.core.frame.DataFrame'>\n",
      "RangeIndex: 87489 entries, 0 to 87488\n",
      "Data columns (total 9 columns):\n",
      " #   Column       Non-Null Count  Dtype         \n",
      "---  ------       --------------  -----         \n",
      " 0   name         87489 non-null  object        \n",
      " 1   author       87489 non-null  object        \n",
      " 2   narrator     87489 non-null  object        \n",
      " 3   time         87489 non-null  int64         \n",
      " 4   releasedate  87489 non-null  datetime64[ns]\n",
      " 5   language     87489 non-null  object        \n",
      " 6   stars        87489 non-null  float64       \n",
      " 7   price        87489 non-null  float64       \n",
      " 8   ratings      87489 non-null  float64       \n",
      "dtypes: datetime64[ns](1), float64(3), int64(1), object(4)\n",
      "memory usage: 6.0+ MB\n"
     ]
    }
   ],
   "source": [
    "data.info()"
   ]
  },
  {
   "cell_type": "markdown",
   "id": "c2ea8286",
   "metadata": {},
   "source": [
    "# Saving the cleaned dataset\n",
    "\n",
    "We have cleaned our dataset, and now to save it we use `.to_csv()` function providing the name of the csv file while setting the `index` to `False`. \n",
    "\n",
    ">**Important**: Not setting the index to `False` would generate an extra column in the csv with row numbers i.e. `0-87488`."
   ]
  },
  {
   "cell_type": "code",
   "execution_count": 29,
   "id": "715b083b",
   "metadata": {},
   "outputs": [],
   "source": [
    "data.to_csv('audible_cleaned.csv', index=False)"
   ]
  }
 ],
 "metadata": {
  "kernelspec": {
   "display_name": "Python 3 (ipykernel)",
   "language": "python",
   "name": "python3"
  },
  "language_info": {
   "codemirror_mode": {
    "name": "ipython",
    "version": 3
   },
   "file_extension": ".py",
   "mimetype": "text/x-python",
   "name": "python",
   "nbconvert_exporter": "python",
   "pygments_lexer": "ipython3",
   "version": "3.8.10"
  }
 },
 "nbformat": 4,
 "nbformat_minor": 5
}
