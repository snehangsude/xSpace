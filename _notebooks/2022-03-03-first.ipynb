{
 "cells": [
  {
   "cell_type": "markdown",
   "id": "b4cb0527",
   "metadata": {},
   "source": [
    "# The Brotherhood of : `__str__` & `__repr__`\n",
    "\n",
    "> Understanding Dunder Methods and the difference between `__str__` and `__repr__`. How they help with debugging and the way to reproduce them in your own code. \n",
    "\n",
    "\n",
    "- toc: true\n",
    "- badges: true\n",
    "- comments: true\n",
    "- categories: [programming, python, OOP, basics]\n",
    "- image: images/brotherhood.jpg"
   ]
  },
  {
   "cell_type": "markdown",
   "id": "f98cb5a2",
   "metadata": {},
   "source": [
    "Diving in the nitty-gritty details of Python introduces us to Dunder Methods. Dunder means \"double underscores\" as it starts and ends with two underscores. A dunder method acts as a contract between the Python interpreter and the person who made a particular Python class.\n",
    "\n",
    "For example, the len method, it helps us with the length of any given string or list or a dictionary, however, it uses a dunder method __len__. Since the length of something is fundamental to any programming language it was made a built-in method but nonetheless, it internally delegates the task to __len__."
   ]
  },
  {
   "cell_type": "code",
   "execution_count": 3,
   "id": "954e54bf",
   "metadata": {},
   "outputs": [],
   "source": [
    "integers = [1, 2, 3, 4, 5]"
   ]
  },
  {
   "cell_type": "code",
   "execution_count": 4,
   "id": "d7da2a0c",
   "metadata": {},
   "outputs": [
    {
     "name": "stdout",
     "output_type": "stream",
     "text": [
      "5\n"
     ]
    }
   ],
   "source": [
    "print(len(integers))"
   ]
  },
  {
   "cell_type": "code",
   "execution_count": 6,
   "id": "4d3f90c7",
   "metadata": {},
   "outputs": [
    {
     "name": "stdout",
     "output_type": "stream",
     "text": [
      "5\n"
     ]
    }
   ],
   "source": [
    "print(integers.__len__())"
   ]
  },
  {
   "cell_type": "markdown",
   "id": "6dba2ba1",
   "metadata": {},
   "source": [
    "There are quite a few built-in functions that internally use dunder methods to work, such as indexing which uses `__getitem__`, or print which uses `__str__`. If you are interested to know about all dunder methods here's a good resource: [Dunder Methods](https://docs.python.org/3/reference/datamodel.html#special-method-names)."
   ]
  },
  {
   "cell_type": "markdown",
   "id": "efdedd1a",
   "metadata": {},
   "source": [
    "## The Difference \n",
    "\n",
    "\n",
    "Understanding `__str__` & `__repr__` allows us greater control for us to not only edit and upgrade classes but also to debug and create libraries. \n",
    "In a nutshell, if I had to explain to you about `__str__` or `__repr__` they both do the same thing i.e. they print an output. **However, `__repr__` is mostly used by programmers to debug, and `__str__` is for the users using the program.** Let's dive in to see how exactly are they both different and learn about when to use which!"
   ]
  },
  {
   "cell_type": "code",
   "execution_count": 9,
   "id": "0edb9c9f",
   "metadata": {},
   "outputs": [
    {
     "data": {
      "text/plain": [
       "\"'Triceratops'\""
      ]
     },
     "execution_count": 9,
     "metadata": {},
     "output_type": "execute_result"
    }
   ],
   "source": [
    "repr('Triceratops')"
   ]
  },
  {
   "cell_type": "code",
   "execution_count": 10,
   "id": "ad467b42",
   "metadata": {},
   "outputs": [
    {
     "data": {
      "text/plain": [
       "'Triceratops'"
      ]
     },
     "execution_count": 10,
     "metadata": {},
     "output_type": "execute_result"
    }
   ],
   "source": [
    "str('Triceratops')"
   ]
  },
  {
   "cell_type": "markdown",
   "id": "12150482",
   "metadata": {},
   "source": [
    "Looking at the above lines of code, there isn't much difference apart from the fact that `repr('Triceratops')` throws us an output which is within a double-inverted comma (`\"\"`) and then the string within a single-inverted (`''`) comma. As for the `str('Triceratops')` it's within a single-inverted comma(`''`). If you ask me, that's not even a difference as both of them do the same exact thing and there isn't much difference. \n",
    "\n",
    "> Let's look at something a bit more interesting."
   ]
  },
  {
   "cell_type": "code",
   "execution_count": 11,
   "id": "5bed9c9b",
   "metadata": {},
   "outputs": [],
   "source": [
    "import datetime"
   ]
  },
  {
   "cell_type": "code",
   "execution_count": 12,
   "id": "d8bcc273",
   "metadata": {},
   "outputs": [
    {
     "name": "stdout",
     "output_type": "stream",
     "text": [
      "2022-03-03 02:10:02.973209\n"
     ]
    }
   ],
   "source": [
    "current_time = datetime.datetime.now()\n",
    "print(current_time)"
   ]
  },
  {
   "cell_type": "code",
   "execution_count": 13,
   "id": "0859244c",
   "metadata": {},
   "outputs": [
    {
     "data": {
      "text/plain": [
       "'2022-03-03 02:10:02.973209'"
      ]
     },
     "execution_count": 13,
     "metadata": {},
     "output_type": "execute_result"
    }
   ],
   "source": [
    "str(current_time)"
   ]
  },
  {
   "cell_type": "code",
   "execution_count": 14,
   "id": "5a938e37",
   "metadata": {},
   "outputs": [
    {
     "data": {
      "text/plain": [
       "'datetime.datetime(2022, 3, 3, 2, 10, 2, 973209)'"
      ]
     },
     "execution_count": 14,
     "metadata": {},
     "output_type": "execute_result"
    }
   ],
   "source": [
    "repr(current_time)"
   ]
  },
  {
   "cell_type": "markdown",
   "id": "35c3b752",
   "metadata": {},
   "source": [
    "***Fascinating, isn't it!***\n",
    "While using the `datetime` library we created a variable `current_time` which stores as the variable says, the current time. Running a `print` statement gives us an output that is similar to the output when we use the `current_time`  variable inside the `str()` function. A user-friendly output of the variable giving is the \t`year-month-date hour:minutes:seconds`.\n",
    "\n",
    "However, using the same variable inside the `repr()` function gives us an entirely different output. It tells us that it's a `datetime` object which holds the values `(year, month, day, hour, minutes, seconds, microseconds)`. A developer-friendly output that provides adequate information for a developer to understand."
   ]
  },
  {
   "cell_type": "markdown",
   "id": "3fe513e1",
   "metadata": {},
   "source": [
    "## The Brotherhood\n",
    "\n",
    "While it may be intriguing to prefer one over another, truth be told, we need both of them to make sure they cover both cases. The general idea is to make the `__repr__` function help you as much as you can with maximum details. While the `__str__` function with the minimum details which a user can read or understand. For example:\n",
    "\n",
    "**Defining a class:**"
   ]
  },
  {
   "cell_type": "code",
   "execution_count": 16,
   "id": "42e35ac9",
   "metadata": {},
   "outputs": [],
   "source": [
    "class Dinosaur:\n",
    "   \n",
    "    def __init__(self, name):\n",
    "        self.name = name\n",
    "        \n",
    "    def __repr__(self):\n",
    "        return (f'{self.name.__class__.__name__}({self.name})')\n",
    "    \n",
    "    def __str__(self):\n",
    "        return (f'{self.name}')"
   ]
  },
  {
   "cell_type": "code",
   "execution_count": 17,
   "id": "4f5cca7c",
   "metadata": {},
   "outputs": [
    {
     "name": "stdout",
     "output_type": "stream",
     "text": [
      "1\n"
     ]
    }
   ],
   "source": [
    "dino = Dinosaur(1)\n",
    "print(dino)"
   ]
  },
  {
   "cell_type": "code",
   "execution_count": 18,
   "id": "086d6974",
   "metadata": {},
   "outputs": [
    {
     "data": {
      "text/plain": [
       "'1'"
      ]
     },
     "execution_count": 18,
     "metadata": {},
     "output_type": "execute_result"
    }
   ],
   "source": [
    "str(dino)"
   ]
  },
  {
   "cell_type": "code",
   "execution_count": 19,
   "id": "3aa78fbd",
   "metadata": {},
   "outputs": [
    {
     "data": {
      "text/plain": [
       "'int(1)'"
      ]
     },
     "execution_count": 19,
     "metadata": {},
     "output_type": "execute_result"
    }
   ],
   "source": [
    "repr(dino)"
   ]
  },
  {
   "cell_type": "markdown",
   "id": "ef45d375",
   "metadata": {},
   "source": [
    "> Note: `__class__` and `__name__` represents the name of the class the `name` belongs to."
   ]
  },
  {
   "cell_type": "markdown",
   "id": "550072be",
   "metadata": {},
   "source": [
    "## Conclusion\n",
    "\n",
    "Now that, you have got a grasp into what `__repr__` & `__str__` does, you are one step closer to debugging your own code. Try creating a class that gives you all the information using `repr()` but only the necessary one using `str()`.\n",
    "\n",
    "If you are interested to know about how `datetime` wrote their library `__repr__` and `__str__` function, you can see the source code [here](https://github.com/python/cpython/blob/3.10/Lib/datetime.py). It might be overwhelming when you look at the code but try to search through the document to find `__str__` and `__repr__`. **Hint: *Use Ctrl + F***. This will give you a broader idea of how these functions are different, yet so similar. \n",
    "\n",
    "Oh! Something to note, Jupyter notebooks use `__repr__` when the output is requested without the `print` statement.  "
   ]
  },
  {
   "cell_type": "code",
   "execution_count": 20,
   "id": "4b9f6117",
   "metadata": {},
   "outputs": [
    {
     "data": {
      "text/plain": [
       "int(1)"
      ]
     },
     "execution_count": 20,
     "metadata": {},
     "output_type": "execute_result"
    }
   ],
   "source": [
    "dino"
   ]
  },
  {
   "cell_type": "markdown",
   "id": "2316f5de",
   "metadata": {},
   "source": [
    "You can view my other articles [here](https://xspace.hashnode.dev/). I would much like to connect with you, if you would like to do so too, please connect with me on [Twitter](https://twitter.com/_Perceptron_)."
   ]
  }
 ],
 "metadata": {
  "kernelspec": {
   "display_name": "Python 3 (ipykernel)",
   "language": "python",
   "name": "python3"
  },
  "language_info": {
   "codemirror_mode": {
    "name": "ipython",
    "version": 3
   },
   "file_extension": ".py",
   "mimetype": "text/x-python",
   "name": "python",
   "nbconvert_exporter": "python",
   "pygments_lexer": "ipython3",
   "version": "3.8.10"
  }
 },
 "nbformat": 4,
 "nbformat_minor": 5
}
